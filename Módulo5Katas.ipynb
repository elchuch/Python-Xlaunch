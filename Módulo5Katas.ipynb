{
 "cells": [
  {
   "cell_type": "code",
   "execution_count": null,
   "metadata": {},
   "outputs": [],
   "source": [
    "planeta1 = 149597870\n",
    "planeta2 = 779547200"
   ]
  },
  {
   "cell_type": "code",
   "execution_count": 1,
   "metadata": {},
   "outputs": [
    {
     "ename": "NameError",
     "evalue": "name 'planeta2' is not defined",
     "output_type": "error",
     "traceback": [
      "\u001b[1;31m---------------------------------------------------------------------------\u001b[0m",
      "\u001b[1;31mNameError\u001b[0m                                 Traceback (most recent call last)",
      "\u001b[1;32mc:\\cursos\\PythonXLaunch\\Módulo5Katas.ipynb Cell 2'\u001b[0m in \u001b[0;36m<module>\u001b[1;34m\u001b[0m\n\u001b[1;32m----> <a href='vscode-notebook-cell:/c%3A/cursos/PythonXLaunch/M%C3%B3dulo5Katas.ipynb#ch0000001?line=0'>1</a>\u001b[0m distanciaKm \u001b[39m=\u001b[39m planeta2 \u001b[39m-\u001b[39m planeta1\n\u001b[0;32m      <a href='vscode-notebook-cell:/c%3A/cursos/PythonXLaunch/M%C3%B3dulo5Katas.ipynb#ch0000001?line=1'>2</a>\u001b[0m \u001b[39mprint\u001b[39m(distanciaKm)\n\u001b[0;32m      <a href='vscode-notebook-cell:/c%3A/cursos/PythonXLaunch/M%C3%B3dulo5Katas.ipynb#ch0000001?line=3'>4</a>\u001b[0m distanceMi \u001b[39m=\u001b[39m distanciaKm \u001b[39m*\u001b[39m \u001b[39m0.621\u001b[39m\n",
      "\u001b[1;31mNameError\u001b[0m: name 'planeta2' is not defined"
     ]
    }
   ],
   "source": [
    "distanciaKm = planeta2 - planeta1\n",
    "print(distanciaKm)\n",
    "\n",
    "distanceMi = distanciaKm * 0.621\n",
    "print(distanceMi)"
   ]
  },
  {
   "cell_type": "markdown",
   "metadata": {},
   "source": [
    "Ejercicio 2"
   ]
  },
  {
   "cell_type": "code",
   "execution_count": 19,
   "metadata": {},
   "outputs": [],
   "source": [
    "planetaA = input('Digite la distancia del sol al  primer  planeta en KM: ')\n",
    "planetaB = input('Digite la distancia del   sol al segundo planeta en KM: ')"
   ]
  },
  {
   "cell_type": "code",
   "execution_count": null,
   "metadata": {},
   "outputs": [],
   "source": [
    "planetaA = int(planetaA)\n",
    "planetaB = int(planetaB)"
   ]
  },
  {
   "cell_type": "code",
   "execution_count": null,
   "metadata": {},
   "outputs": [
    {
     "name": "stdout",
     "output_type": "stream",
     "text": [
      "720700000\n",
      "447554700.0\n"
     ]
    }
   ],
   "source": [
    "distanciaKm = planetaB - planetaA\n",
    "print(distanciaKm)\n",
    "\n",
    "\n",
    "distanceMi = distanciaKm * 0.621\n",
    "print(abs(distanceMi))"
   ]
  }
 ],
 "metadata": {
  "interpreter": {
   "hash": "9bf2ca0f4a7adc3ce2f237ca763c1538d3ef289a4e7face3612a01cdae9f6807"
  },
  "kernelspec": {
   "display_name": "Python 3.10.2 64-bit",
   "language": "python",
   "name": "python3"
  },
  "language_info": {
   "codemirror_mode": {
    "name": "ipython",
    "version": 3
   },
   "file_extension": ".py",
   "mimetype": "text/x-python",
   "name": "python",
   "nbconvert_exporter": "python",
   "pygments_lexer": "ipython3",
   "version": "3.10.2"
  },
  "orig_nbformat": 4
 },
 "nbformat": 4,
 "nbformat_minor": 2
}
