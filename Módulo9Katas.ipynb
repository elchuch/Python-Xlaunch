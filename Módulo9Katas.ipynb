{
 "cells": [
  {
   "cell_type": "code",
   "execution_count": 3,
   "metadata": {},
   "outputs": [],
   "source": [
    "def reporteGenerado(tanque1, tanque2, tanque3):\n",
    "    total = (tanque1 + tanque2 + tanque3) / 3\n",
    "    return f\"\"\"Reporte total:\n",
    "    Total : {total}%\n",
    "    tanque 1: {tanque1}%\n",
    " tanque 2: {tanque2}%\n",
    "    tanque 3: {tanque3}% \n",
    "    \"\"\""
   ]
  },
  {
   "cell_type": "code",
   "execution_count": 4,
   "metadata": {},
   "outputs": [
    {
     "name": "stdout",
     "output_type": "stream",
     "text": [
      "Reporte total:\n",
      "    Total : 78.33333333333333%\n",
      "    tanque 1: 80%\n",
      " tanque 2: 70%\n",
      "    tanque 3: 85% \n",
      "    \n"
     ]
    }
   ],
   "source": [
    "print(reporteGenerado(80, 70, 85))"
   ]
  },
  {
   "cell_type": "code",
   "execution_count": 7,
   "metadata": {},
   "outputs": [],
   "source": [
    "def promedio(values):\n",
    "    total = sum(values)\n",
    "    prom = len(values)\n",
    "    return total / prom"
   ]
  },
  {
   "cell_type": "code",
   "execution_count": 8,
   "metadata": {},
   "outputs": [
    {
     "data": {
      "text/plain": [
       "90.66666666666667"
      ]
     },
     "execution_count": 8,
     "metadata": {},
     "output_type": "execute_result"
    }
   ],
   "source": [
    "promedio([100, 82, 90]) "
   ]
  },
  {
   "cell_type": "code",
   "execution_count": 9,
   "metadata": {},
   "outputs": [],
   "source": [
    "def reporteGenerado(tanque1, tanque2, tanque3):\n",
    "    total = (tanque1 + tanque2 + tanque3) / 3\n",
    "    return f\"\"\"Reporte total:\n",
    "    Total : {total}%\n",
    "    tanque 1: {tanque1}%\n",
    " tanque 2: {tanque2}%\n",
    "    tanque 3: {tanque3}% \n",
    "    \"\"\""
   ]
  },
  {
   "cell_type": "code",
   "execution_count": 11,
   "metadata": {},
   "outputs": [
    {
     "name": "stdout",
     "output_type": "stream",
     "text": [
      "Reporte total:\n",
      "    Total : 23.333333333333332%\n",
      "    tanque 1: 4%\n",
      " tanque 2: 56%\n",
      "    tanque 3: 10% \n",
      "    \n"
     ]
    }
   ],
   "source": [
    "print(reporteGenerado(4, 56, 10))"
   ]
  },
  {
   "cell_type": "markdown",
   "metadata": {},
   "source": [
    "Ejercicio 2"
   ]
  },
  {
   "cell_type": "code",
   "execution_count": 13,
   "metadata": {},
   "outputs": [
    {
     "name": "stdout",
     "output_type": "stream",
     "text": [
      "\n",
      "    Mission to Moon\n",
      "    tiempo de la msion: 205 minutes\n",
      "    total del tanque de abasto: 302372323 gallons\n",
      "    \n"
     ]
    }
   ],
   "source": [
    "def reporte(prelanzamiento, tiempoDEVuelo, destino, tanque_externo,tanque_interno):\n",
    "    return f\"\"\"\n",
    "    Mission to {destino}\n",
    "    tiempo de la msion: {prelanzamiento +tiempoDEVuelo} minutes\n",
    "    total del tanque de abasto: {tanque_externo + tanque_interno} gallons\n",
    "    \"\"\"\n",
    "\n",
    "print(reporte (155, 50, \"Moon\", 2030023, 300342300))"
   ]
  },
  {
   "cell_type": "code",
   "execution_count": 15,
   "metadata": {},
   "outputs": [
    {
     "name": "stdout",
     "output_type": "stream",
     "text": [
      "\n",
      "    Mission to Moon\n",
      "    total de tiempo: 76 minutes\n",
      "    Total de gasolina: 500000\n",
      "    \n"
     ]
    }
   ],
   "source": [
    "def reporte(destino, *minutes, **fuel_reservoirs):\n",
    "    return f\"\"\"\n",
    "    Mission to {destino}\n",
    "    total de tiempo: {sum(minutes)} minutes\n",
    "    Total de gasolina: {sum(fuel_reservoirs.values())}\n",
    "    \"\"\"\n",
    "\n",
    "print(reporte(\"Moon\", 10, 15, 51, main=300000, external=200000))"
   ]
  },
  {
   "cell_type": "code",
   "execution_count": 18,
   "metadata": {},
   "outputs": [
    {
     "name": "stdout",
     "output_type": "stream",
     "text": [
      "\n",
      "    Mission to Moon\n",
      "    tiempo de vuelo: 74 minutes\n",
      "    Total de gas : 500000\n",
      "    main tanque --> 300000 galones \n",
      "external tanque --> 200000 galones \n",
      "\n"
     ]
    }
   ],
   "source": [
    "def reporte(destino, *minutes, **fuel_reservoirs):\n",
    "    main_report = f\"\"\"\n",
    "    Mission to {destino}\n",
    "    tiempo de vuelo: {sum(minutes)} minutes\n",
    "    Total de gas : {sum(fuel_reservoirs.values())}\n",
    "    \"\"\"\n",
    "    for nombreTanque, galones in fuel_reservoirs.items():\n",
    "        main_report += f\"{nombreTanque} tanque --> {galones} galones \\n\"\n",
    "    return main_report\n",
    "\n",
    "print(reporte(\"Moon\", 8, 11, 55, main=300000, external=200000))"
   ]
  }
 ],
 "metadata": {
  "interpreter": {
   "hash": "9bf2ca0f4a7adc3ce2f237ca763c1538d3ef289a4e7face3612a01cdae9f6807"
  },
  "kernelspec": {
   "display_name": "Python 3.10.2 64-bit",
   "language": "python",
   "name": "python3"
  },
  "language_info": {
   "codemirror_mode": {
    "name": "ipython",
    "version": 3
   },
   "file_extension": ".py",
   "mimetype": "text/x-python",
   "name": "python",
   "nbconvert_exporter": "python",
   "pygments_lexer": "ipython3",
   "version": "3.10.2"
  },
  "orig_nbformat": 4
 },
 "nbformat": 4,
 "nbformat_minor": 2
}
